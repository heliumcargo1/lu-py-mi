{
  "nbformat": 4,
  "nbformat_minor": 0,
  "metadata": {
    "colab": {
      "provenance": []
    },
    "kernelspec": {
      "name": "python3",
      "display_name": "Python 3"
    },
    "language_info": {
      "name": "python"
    }
  },
  "cells": [
    {
      "cell_type": "code",
      "execution_count": 1,
      "metadata": {
        "id": "MEFZ619OWv4i"
      },
      "outputs": [],
      "source": [
        "import numpy as np\n"
      ]
    },
    {
      "cell_type": "code",
      "source": [
        "row_num = int(input(\"Input number of rows: \"))\n",
        "col_num = int(input(\"Input number of columns: \"))\n",
        "multi_list = [[0 for col in range(col_num)] for row in range(row_num)]\n",
        "\n",
        "for row in range(row_num):\n",
        "    for col in range(col_num):\n",
        "        multi_list[row][col]= row*col\n",
        "\n",
        "print(multi_list)\n"
      ],
      "metadata": {
        "colab": {
          "base_uri": "https://localhost:8080/"
        },
        "id": "hIjZV5tBZbCV",
        "outputId": "24f9977e-a1d7-46c0-f769-dfefef46c796"
      },
      "execution_count": 16,
      "outputs": [
        {
          "output_type": "stream",
          "name": "stdout",
          "text": [
            "Input number of rows: 2\n",
            "Input number of columns: 3\n",
            "[[0, 0, 0], [0, 1, 2]]\n"
          ]
        }
      ]
    }
  ]
}