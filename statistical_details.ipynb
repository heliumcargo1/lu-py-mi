{
  "nbformat": 4,
  "nbformat_minor": 0,
  "metadata": {
    "colab": {
      "provenance": []
    },
    "kernelspec": {
      "name": "python3",
      "display_name": "Python 3"
    },
    "language_info": {
      "name": "python"
    }
  },
  "cells": [
    {
      "cell_type": "code",
      "execution_count": 4,
      "metadata": {
        "id": "MEFZ619OWv4i"
      },
      "outputs": [],
      "source": [
        "from pandas import DataFrame"
      ]
    },
    {
      "cell_type": "code",
      "source": [
        "Vehicles = {'Company': ['Mercedes E','Honda City','Corolla Altis','Corolla Altis','BMW X'],\n",
        "'Amount': [15000,16000,17000,18000,20000],\n",
        "'Year': [2010,2011,2012,2013,2014] }\n",
        "df = DataFrame(Vehicles, columns= ['Company', 'Amount','Year'])"
      ],
      "metadata": {
        "id": "hIjZV5tBZbCV"
      },
      "execution_count": 3,
      "outputs": []
    },
    {
      "cell_type": "markdown",
      "source": [
        "Statistics With All Columns"
      ],
      "metadata": {
        "id": "xDKVlgUN3hli"
      }
    },
    {
      "cell_type": "code",
      "source": [
        "statistics=df.describe(include='all')\n",
        "print (statistics)"
      ],
      "metadata": {
        "colab": {
          "base_uri": "https://localhost:8080/"
        },
        "id": "pc59NK2a3ggO",
        "outputId": "7e74f0b6-546e-48c1-bdb2-1c84b9ed7a53"
      },
      "execution_count": 5,
      "outputs": [
        {
          "output_type": "stream",
          "name": "stdout",
          "text": [
            "              Company        Amount         Year\n",
            "count               5      5.000000     5.000000\n",
            "unique              4           NaN          NaN\n",
            "top     Corolla Altis           NaN          NaN\n",
            "freq                2           NaN          NaN\n",
            "mean              NaN  17200.000000  2012.000000\n",
            "std               NaN   1923.538406     1.581139\n",
            "min               NaN  15000.000000  2010.000000\n",
            "25%               NaN  16000.000000  2011.000000\n",
            "50%               NaN  17000.000000  2012.000000\n",
            "75%               NaN  18000.000000  2013.000000\n",
            "max               NaN  20000.000000  2014.000000\n"
          ]
        }
      ]
    }
  ]
}